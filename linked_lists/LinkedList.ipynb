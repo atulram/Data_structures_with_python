{
  "nbformat": 4,
  "nbformat_minor": 0,
  "metadata": {
    "colab": {
      "name": "LinkedList.ipynb",
      "provenance": [],
      "authorship_tag": "ABX9TyPy+dlumnP9WuBwzEe729Vj",
      "include_colab_link": true
    },
    "kernelspec": {
      "name": "python3",
      "display_name": "Python 3"
    }
  },
  "cells": [
    {
      "cell_type": "markdown",
      "metadata": {
        "id": "view-in-github",
        "colab_type": "text"
      },
      "source": [
        "<a href=\"https://colab.research.google.com/github/atulram/Data_structures_with_python/blob/master/linked_lists/LinkedList.ipynb\" target=\"_parent\"><img src=\"https://colab.research.google.com/assets/colab-badge.svg\" alt=\"Open In Colab\"/></a>"
      ]
    },
    {
      "cell_type": "code",
      "metadata": {
        "id": "lk6gVKSAVq0q",
        "colab_type": "code",
        "colab": {}
      },
      "source": [
        "class Node:\n",
        "  def __init__(self, value):\n",
        "    self.value = value\n",
        "    self.next = None\n",
        "\n",
        "  def __repr__(self):\n",
        "    return str(self.value)\n",
        "\n",
        "class LinkedList:\n",
        "  def __init__(self):\n",
        "    self.head = None\n",
        "\n",
        "  def create_range(self, n):\n",
        "    self.head = Node(1)\n",
        "    temp = self.head\n",
        "    for i in range(2,n+1):\n",
        "      temp.next = Node(i)\n",
        "      temp = temp.next\n",
        "\n",
        "  def print_list(self):\n",
        "    temp = self.head\n",
        "    path = \"\"\n",
        "    while temp:\n",
        "      path += str(temp.value)+\" --> \"\n",
        "      temp = temp.next\n",
        "\n",
        "    return path[:-5]\n",
        "\n",
        "  def reverse_list(self):\n",
        "    predecessor = None\n",
        "    while self.head:\n",
        "      successor = self.head.next\n",
        "      self.head.next = predecessor\n",
        "      predecessor = self.head\n",
        "      self.head = successor\n",
        "    self.head = predecessor\n",
        "\n",
        "  def push(self, value):\n",
        "    new_node = Node(value)\n",
        "    new_node.next = self.head\n",
        "    self.head = new_node\n",
        "\n",
        "  def append(self, value):\n",
        "    new_node = Node(value)\n",
        "    temp = self.head\n",
        "    while temp:\n",
        "      if temp.next:\n",
        "        temp = temp.next\n",
        "      else:\n",
        "        temp.next = new_node\n",
        "        return\n",
        "\n",
        "    # handling the case when head is null\n",
        "    self.head = new_node\n",
        "  \n",
        "  @classmethod\n",
        "  def insert(self, prev_node, value):\n",
        "    if not prev_node:\n",
        "      return \"Previous node cannot be null\"\n",
        "\n",
        "    new_node = Node(value)\n",
        "    new_node.next = prev_node.next\n",
        "    prev_node.next = new_node\n",
        "\n",
        "  def delete_by_value(self, key):\n",
        "    # handling the case when head has the matching value\n",
        "    if self.head.value == key:\n",
        "      self.head = self.head.next\n",
        "      return\n",
        "    prev = self.head\n",
        "    curr = self.head.next\n",
        "    while curr:\n",
        "      if curr.value == key:\n",
        "        prev.next = curr.next\n",
        "        return\n",
        "      prev = curr\n",
        "      curr = curr.next\n",
        "    \n",
        "    return f\"No node with value {key} was found\"\n",
        "\n",
        "  def delete_by_position(self, pos):\n",
        "    # handling the case when position given is 0\n",
        "    if pos==0:\n",
        "      self.head = self.head.next\n",
        "      return\n",
        "\n",
        "    prev = self.head\n",
        "    curr = self.head.next\n",
        "    counter = 1\n",
        "    while curr:\n",
        "      if counter == pos:\n",
        "        prev.next = curr.next\n",
        "        return\n",
        "      prev = curr\n",
        "      curr = curr.next\n",
        "      counter += 1\n",
        "\n",
        "    return f\"{pos} is greater then the length of the linked list: {counter}\"\n",
        "\n",
        "  def delete_mid(self):\n",
        "    # Deletes middle element in O(n) \n",
        "    if self.head and self.head.next:\n",
        "      mid = self.head\n",
        "      last = self.head.next\n",
        "      counter = 1\n",
        "      while last:\n",
        "        counter+=1\n",
        "        if counter>3 and counter%2==0:\n",
        "          mid = mid.next\n",
        "        last = last.next\n",
        "      mid.next = mid.next.next\n",
        "    else:\n",
        "      return f\"The list must be atleast 2 node long\"\n",
        "\n",
        "  def __len__(self):\n",
        "    temp = self.head\n",
        "    length = 0\n",
        "    while temp:\n",
        "      length+=1\n",
        "      temp = temp.next\n",
        "    return length    \n",
        "\n",
        "  def __repr__(self):\n",
        "    return self.print_list()\n"
      ],
      "execution_count": 0,
      "outputs": []
    },
    {
      "cell_type": "code",
      "metadata": {
        "id": "sORqPRqVx1IB",
        "colab_type": "code",
        "colab": {
          "base_uri": "https://localhost:8080/",
          "height": 34
        },
        "outputId": "c67ae393-0f22-4dda-ceec-215a14be40fc"
      },
      "source": [
        "llist = LinkedList()\n",
        "llist.create_range(10)\n",
        "llist.print_list()"
      ],
      "execution_count": 70,
      "outputs": [
        {
          "output_type": "execute_result",
          "data": {
            "text/plain": [
              "'1 --> 2 --> 3 --> 4 --> 5 --> 6 --> 7 --> 8 --> 9 --> 10'"
            ]
          },
          "metadata": {
            "tags": []
          },
          "execution_count": 70
        }
      ]
    },
    {
      "cell_type": "code",
      "metadata": {
        "id": "YiiqknKmVlxH",
        "colab_type": "code",
        "colab": {
          "base_uri": "https://localhost:8080/",
          "height": 34
        },
        "outputId": "42496a67-ce22-405f-a7d7-1834e43fb732"
      },
      "source": [
        "llist.push(15)\n",
        "llist"
      ],
      "execution_count": 71,
      "outputs": [
        {
          "output_type": "execute_result",
          "data": {
            "text/plain": [
              "15 --> 1 --> 2 --> 3 --> 4 --> 5 --> 6 --> 7 --> 8 --> 9 --> 10"
            ]
          },
          "metadata": {
            "tags": []
          },
          "execution_count": 71
        }
      ]
    },
    {
      "cell_type": "code",
      "metadata": {
        "id": "98y14HT2ZxcX",
        "colab_type": "code",
        "colab": {
          "base_uri": "https://localhost:8080/",
          "height": 34
        },
        "outputId": "f09d2cf3-37ed-45e9-9cdb-2af3897b192a"
      },
      "source": [
        "llist.append(11)\n",
        "llist"
      ],
      "execution_count": 72,
      "outputs": [
        {
          "output_type": "execute_result",
          "data": {
            "text/plain": [
              "15 --> 1 --> 2 --> 3 --> 4 --> 5 --> 6 --> 7 --> 8 --> 9 --> 10 --> 11"
            ]
          },
          "metadata": {
            "tags": []
          },
          "execution_count": 72
        }
      ]
    },
    {
      "cell_type": "code",
      "metadata": {
        "id": "ZAqgg-YNx4Lv",
        "colab_type": "code",
        "colab": {
          "base_uri": "https://localhost:8080/",
          "height": 34
        },
        "outputId": "66e58cf3-6632-4066-8b86-03f27f811b5b"
      },
      "source": [
        "llist.delete_by_value(15)\n",
        "llist.delete_by_value(11)\n",
        "llist"
      ],
      "execution_count": 73,
      "outputs": [
        {
          "output_type": "execute_result",
          "data": {
            "text/plain": [
              "1 --> 2 --> 3 --> 4 --> 5 --> 6 --> 7 --> 8 --> 9 --> 10"
            ]
          },
          "metadata": {
            "tags": []
          },
          "execution_count": 73
        }
      ]
    },
    {
      "cell_type": "code",
      "metadata": {
        "id": "VvymJaaW2fyO",
        "colab_type": "code",
        "colab": {
          "base_uri": "https://localhost:8080/",
          "height": 34
        },
        "outputId": "005d425b-32d8-4418-d0e2-852c7e3588cc"
      },
      "source": [
        "llist.delete_by_position(4)\n",
        "llist"
      ],
      "execution_count": 74,
      "outputs": [
        {
          "output_type": "execute_result",
          "data": {
            "text/plain": [
              "1 --> 2 --> 3 --> 4 --> 6 --> 7 --> 8 --> 9 --> 10"
            ]
          },
          "metadata": {
            "tags": []
          },
          "execution_count": 74
        }
      ]
    },
    {
      "cell_type": "code",
      "metadata": {
        "id": "p35LvIkJzQIR",
        "colab_type": "code",
        "colab": {
          "base_uri": "https://localhost:8080/",
          "height": 34
        },
        "outputId": "f047ee49-0b3c-4ecb-9ad3-e3954ba89cc3"
      },
      "source": [
        "llist.delete_by_value(6)\n",
        "llist"
      ],
      "execution_count": 75,
      "outputs": [
        {
          "output_type": "execute_result",
          "data": {
            "text/plain": [
              "1 --> 2 --> 3 --> 4 --> 7 --> 8 --> 9 --> 10"
            ]
          },
          "metadata": {
            "tags": []
          },
          "execution_count": 75
        }
      ]
    },
    {
      "cell_type": "code",
      "metadata": {
        "id": "CiICmt5NKgNB",
        "colab_type": "code",
        "colab": {
          "base_uri": "https://localhost:8080/",
          "height": 34
        },
        "outputId": "c290eb30-c12e-4b2b-ce0c-32e3b73741df"
      },
      "source": [
        "llist.delete_mid()\n",
        "llist"
      ],
      "execution_count": 76,
      "outputs": [
        {
          "output_type": "execute_result",
          "data": {
            "text/plain": [
              "1 --> 2 --> 3 --> 4 --> 8 --> 9 --> 10"
            ]
          },
          "metadata": {
            "tags": []
          },
          "execution_count": 76
        }
      ]
    },
    {
      "cell_type": "code",
      "metadata": {
        "id": "wEXxKbSNSN9e",
        "colab_type": "code",
        "colab": {
          "base_uri": "https://localhost:8080/",
          "height": 34
        },
        "outputId": "dd918afa-c42f-47a7-947d-2de8f3961655"
      },
      "source": [
        "llist.delete_mid()\n",
        "llist"
      ],
      "execution_count": 77,
      "outputs": [
        {
          "output_type": "execute_result",
          "data": {
            "text/plain": [
              "1 --> 2 --> 3 --> 8 --> 9 --> 10"
            ]
          },
          "metadata": {
            "tags": []
          },
          "execution_count": 77
        }
      ]
    },
    {
      "cell_type": "code",
      "metadata": {
        "id": "uql9UQrvVgep",
        "colab_type": "code",
        "colab": {
          "base_uri": "https://localhost:8080/",
          "height": 34
        },
        "outputId": "c1308fb2-bacc-4350-94ff-1dc6c519a2b8"
      },
      "source": [
        "llist1 = LinkedList()\n",
        "llist1.append(5)\n",
        "llist1.push(4)\n",
        "llist1"
      ],
      "execution_count": 78,
      "outputs": [
        {
          "output_type": "execute_result",
          "data": {
            "text/plain": [
              "4 --> 5"
            ]
          },
          "metadata": {
            "tags": []
          },
          "execution_count": 78
        }
      ]
    },
    {
      "cell_type": "code",
      "metadata": {
        "id": "oUX5gwIOeTgE",
        "colab_type": "code",
        "colab": {
          "base_uri": "https://localhost:8080/",
          "height": 34
        },
        "outputId": "9807f989-d33b-4f58-e1c7-e5fa0bf187bb"
      },
      "source": [
        "LinkedList.insert(llist.head.next, 13)\n",
        "llist"
      ],
      "execution_count": 79,
      "outputs": [
        {
          "output_type": "execute_result",
          "data": {
            "text/plain": [
              "1 --> 2 --> 13 --> 3 --> 8 --> 9 --> 10"
            ]
          },
          "metadata": {
            "tags": []
          },
          "execution_count": 79
        }
      ]
    },
    {
      "cell_type": "code",
      "metadata": {
        "id": "ci0zveWRzv97",
        "colab_type": "code",
        "colab": {
          "base_uri": "https://localhost:8080/",
          "height": 34
        },
        "outputId": "a6feb652-af85-49af-9c9a-7e8e77b91db5"
      },
      "source": [
        "llist.reverse_list()\n",
        "llist.print_list()"
      ],
      "execution_count": 80,
      "outputs": [
        {
          "output_type": "execute_result",
          "data": {
            "text/plain": [
              "'10 --> 9 --> 8 --> 3 --> 13 --> 2 --> 1'"
            ]
          },
          "metadata": {
            "tags": []
          },
          "execution_count": 80
        }
      ]
    },
    {
      "cell_type": "code",
      "metadata": {
        "id": "Li1hzadB0OM-",
        "colab_type": "code",
        "colab": {
          "base_uri": "https://localhost:8080/",
          "height": 34
        },
        "outputId": "339516b7-7750-458b-bd28-8d9903cf208e"
      },
      "source": [
        "len(llist)"
      ],
      "execution_count": 82,
      "outputs": [
        {
          "output_type": "execute_result",
          "data": {
            "text/plain": [
              "7"
            ]
          },
          "metadata": {
            "tags": []
          },
          "execution_count": 82
        }
      ]
    }
  ]
}