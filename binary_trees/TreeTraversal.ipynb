{
  "nbformat": 4,
  "nbformat_minor": 0,
  "metadata": {
    "colab": {
      "name": "TreeTraversal.ipynb",
      "provenance": [],
      "authorship_tag": "ABX9TyM1z23HOJdpfkiusx9whNNd",
      "include_colab_link": true
    },
    "kernelspec": {
      "name": "python3",
      "display_name": "Python 3"
    }
  },
  "cells": [
    {
      "cell_type": "markdown",
      "metadata": {
        "id": "view-in-github",
        "colab_type": "text"
      },
      "source": [
        "<a href=\"https://colab.research.google.com/github/atulram/Data_structures_with_python/blob/master/binary_trees/TreeTraversal.ipynb\" target=\"_parent\"><img src=\"https://colab.research.google.com/assets/colab-badge.svg\" alt=\"Open In Colab\"/></a>"
      ]
    },
    {
      "cell_type": "code",
      "metadata": {
        "id": "OEoKOvKKrCJ0",
        "colab_type": "code",
        "colab": {}
      },
      "source": [
        "class Node:\n",
        "  def __init__(self, value):\n",
        "    self.value = value\n",
        "    self.left = None\n",
        "    self.right = None\n",
        "  \n",
        "  def __repr__(self):\n",
        "    show = \"\"\n",
        "    if self.left:\n",
        "      show = str(self.left.value) + \" ==> \"\n",
        "    show += str(self.value)\n",
        "    if self.right:\n",
        "      show += \" <== \" + str(self.right.value)\n",
        "      \n",
        "    return show"
      ],
      "execution_count": 0,
      "outputs": []
    },
    {
      "cell_type": "code",
      "metadata": {
        "id": "e8_6Et-5rF38",
        "colab_type": "code",
        "colab": {}
      },
      "source": [
        "\"\"\"    \n",
        "       500\n",
        "     /     \\\n",
        "  10000    10\n",
        "  /  \\    /  \\\n",
        "30   60  5   20\n",
        "\n",
        "\"\"\"\n",
        "binary_tree = Node(500)\n",
        "binary_tree.left = Node(10000)\n",
        "binary_tree.right = Node(10)\n",
        "binary_tree.left.left = Node(30)\n",
        "binary_tree.left.right = Node(60)\n",
        "binary_tree.right.left = Node(5)\n",
        "binary_tree.right.right = Node(20)"
      ],
      "execution_count": 0,
      "outputs": []
    },
    {
      "cell_type": "markdown",
      "metadata": {
        "id": "XSc3FQGR3pUp",
        "colab_type": "text"
      },
      "source": [
        "## First approach\n",
        "* *In this approach you make a TreeTraversal object and then call its in_order_traversal / pre_order_traversal / post_order_traversal methods passing a binary tree object*\n",
        "* _Once the traversal is complete, it returns you the TreeTraversal object. In this case the repr method allows to show traversal path_\n",
        "* _It depends on the repr method to be called implicitly or else when the next type of traversal method is called on TreeTraversal object, the path is appended to the track_"
      ]
    },
    {
      "cell_type": "code",
      "metadata": {
        "id": "ImzLArCOrYqy",
        "colab_type": "code",
        "colab": {}
      },
      "source": [
        "class TreeTraversal:\n",
        "  def __init__(self):\n",
        "    self.track = \"\"\n",
        "  def in_order_traversal(self, start):\n",
        "    if start:\n",
        "      self.in_order_traversal(start.left)\n",
        "      self.track += str(start.value)+\"-\"\n",
        "      self.in_order_traversal(start.right)\n",
        "    return self\n",
        "\n",
        "  def pre_order_traversal(self, start):\n",
        "    if start:\n",
        "      self.track += str(start.value)+\"-\"\n",
        "      self.pre_order_traversal(start.left)\n",
        "      self.pre_order_traversal(start.right)\n",
        "    return self\n",
        "\n",
        "  def post_order_traversal(self, start):\n",
        "    if start:\n",
        "      self.post_order_traversal(start.left)\n",
        "      self.post_order_traversal(start.right)\n",
        "      self.track += str(start.value)+\"-\"\n",
        "    return self\n",
        "    \n",
        "  def __repr__(self):\n",
        "    display = self.track[:-1]\n",
        "    self.track = \"\"\n",
        "    return display\n",
        "\n",
        "    "
      ],
      "execution_count": 0,
      "outputs": []
    },
    {
      "cell_type": "code",
      "metadata": {
        "id": "rnRB5ZgoU3ef",
        "colab_type": "code",
        "colab": {
          "base_uri": "https://localhost:8080/",
          "height": 34
        },
        "outputId": "9db158f5-2b50-4462-c58d-3d8bf5de44d8"
      },
      "source": [
        "TreeTraversal().in_order_traversal(binary_tree)"
      ],
      "execution_count": 7,
      "outputs": [
        {
          "output_type": "execute_result",
          "data": {
            "text/plain": [
              "30-10000-60-500-5-10-20"
            ]
          },
          "metadata": {
            "tags": []
          },
          "execution_count": 7
        }
      ]
    },
    {
      "cell_type": "code",
      "metadata": {
        "id": "_q5tzWdJ9ZWC",
        "colab_type": "code",
        "colab": {
          "base_uri": "https://localhost:8080/",
          "height": 34
        },
        "outputId": "b21b233e-0461-4869-fc6e-2c0c656196f5"
      },
      "source": [
        "TreeTraversal().pre_order_traversal(binary_tree)"
      ],
      "execution_count": 8,
      "outputs": [
        {
          "output_type": "execute_result",
          "data": {
            "text/plain": [
              "500-10000-30-60-10-5-20"
            ]
          },
          "metadata": {
            "tags": []
          },
          "execution_count": 8
        }
      ]
    },
    {
      "cell_type": "code",
      "metadata": {
        "id": "9fOq8ztPvGku",
        "colab_type": "code",
        "colab": {
          "base_uri": "https://localhost:8080/",
          "height": 34
        },
        "outputId": "53a977c0-dac0-4385-a882-5705effac877"
      },
      "source": [
        "TreeTraversal().post_order_traversal(binary_tree)"
      ],
      "execution_count": 9,
      "outputs": [
        {
          "output_type": "execute_result",
          "data": {
            "text/plain": [
              "30-60-10000-5-20-10-500"
            ]
          },
          "metadata": {
            "tags": []
          },
          "execution_count": 9
        }
      ]
    },
    {
      "cell_type": "code",
      "metadata": {
        "id": "gWHNasHdZOH5",
        "colab_type": "code",
        "colab": {
          "base_uri": "https://localhost:8080/",
          "height": 67
        },
        "outputId": "3173595d-217e-4386-cb6f-00de1378bc4d"
      },
      "source": [
        "t = TreeTraversal()\n",
        "print(t.in_order_traversal(binary_tree))\n",
        "print(t.pre_order_traversal(binary_tree))\n",
        "print(t.post_order_traversal(binary_tree))"
      ],
      "execution_count": 10,
      "outputs": [
        {
          "output_type": "stream",
          "text": [
            "30-10000-60-500-5-10-20\n",
            "500-10000-30-60-10-5-20\n",
            "30-60-10000-5-20-10-500\n"
          ],
          "name": "stdout"
        }
      ]
    },
    {
      "cell_type": "markdown",
      "metadata": {
        "id": "umpAEQDA67W_",
        "colab_type": "text"
      },
      "source": [
        "## Second approach\n",
        "* _In this approach you make a TreeTraversal object by passing a binary tree_\n",
        "* _Then you call the traverse method on the this object py passing the traverse type. It returns you the track_\n",
        "* _You can also see the track by calling the show method on this object after traversing_"
      ]
    },
    {
      "cell_type": "code",
      "metadata": {
        "id": "gCyg59dH9GZF",
        "colab_type": "code",
        "colab": {}
      },
      "source": [
        "class TreeTraversal:\n",
        "  def __init__(self, root):\n",
        "    self.root = root\n",
        "    \n",
        "  def traverse(self, traverse_type):\n",
        "    self.track = \"\"\n",
        "    if traverse_type==\"inorder\":\n",
        "      self.track = self.in_order_traversal(self.root, self.track)\n",
        "    elif traverse_type==\"preorder\":\n",
        "      self.track = self.pre_order_traversal(self.root, self.track)\n",
        "    elif traverse_type==\"postorder\":\n",
        "      self.track = self.post_order_traversal(self.root, self.track)\n",
        "    else:\n",
        "      return \"Not a valid traversal type\"\n",
        "\n",
        "    return self.show()\n",
        "      \n",
        "  def in_order_traversal(self, start, track):\n",
        "    if start:\n",
        "      track = self.in_order_traversal(start.left, track)\n",
        "      track += str(start.value)+\"-\"\n",
        "      track = self.in_order_traversal(start.right, track)\n",
        "    return track\n",
        "\n",
        "\n",
        "  def pre_order_traversal(self, start, track):\n",
        "    if start:\n",
        "      track += str(start.value)+\"-\"\n",
        "      track = self.pre_order_traversal(start.left, track)\n",
        "      track = self.pre_order_traversal(start.right, track)\n",
        "    return track\n",
        "\n",
        "  def post_order_traversal(self, start, track):\n",
        "    if start:\n",
        "      track = self.post_order_traversal(start.left, track)\n",
        "      track = self.post_order_traversal(start.right, track)\n",
        "      track += str(start.value)+\"-\"\n",
        "    return track\n",
        "\n",
        "  def show(self):\n",
        "    return self.track[:-1]\n",
        "\n",
        "    "
      ],
      "execution_count": 0,
      "outputs": []
    },
    {
      "cell_type": "code",
      "metadata": {
        "id": "JU7bqJpIyem5",
        "colab_type": "code",
        "colab": {
          "base_uri": "https://localhost:8080/",
          "height": 67
        },
        "outputId": "723277d6-00e6-4f3a-d2d7-8cce2c56c513"
      },
      "source": [
        "t1 = TreeTraversal(binary_tree)\n",
        "print(t1.traverse(\"inorder\"))\n",
        "print(t1.traverse(\"preorder\"))\n",
        "print(t1.traverse(\"postorder\"))\n"
      ],
      "execution_count": 55,
      "outputs": [
        {
          "output_type": "stream",
          "text": [
            "30-10000-60-500-5-10-20\n",
            "500-10000-30-60-10-5-20\n",
            "30-60-10000-5-20-10-500\n"
          ],
          "name": "stdout"
        }
      ]
    },
    {
      "cell_type": "code",
      "metadata": {
        "id": "9uhPJ37My30b",
        "colab_type": "code",
        "colab": {
          "base_uri": "https://localhost:8080/",
          "height": 34
        },
        "outputId": "6f9bbb36-d5d7-4db3-937b-f49078647375"
      },
      "source": [
        "t1.show()"
      ],
      "execution_count": 56,
      "outputs": [
        {
          "output_type": "execute_result",
          "data": {
            "text/plain": [
              "'30-60-10000-5-20-10-500'"
            ]
          },
          "metadata": {
            "tags": []
          },
          "execution_count": 56
        }
      ]
    },
    {
      "cell_type": "code",
      "metadata": {
        "id": "UVJZZRWfzQFA",
        "colab_type": "code",
        "colab": {}
      },
      "source": [
        ""
      ],
      "execution_count": 0,
      "outputs": []
    }
  ]
}