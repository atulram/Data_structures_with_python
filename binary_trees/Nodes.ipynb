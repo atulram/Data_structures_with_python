{
  "nbformat": 4,
  "nbformat_minor": 0,
  "metadata": {
    "colab": {
      "name": "Nodes.ipynb",
      "provenance": [],
      "authorship_tag": "ABX9TyMve1pgpGbu4FsiLG25+j8C",
      "include_colab_link": true
    },
    "kernelspec": {
      "name": "python3",
      "display_name": "Python 3"
    }
  },
  "cells": [
    {
      "cell_type": "markdown",
      "metadata": {
        "id": "view-in-github",
        "colab_type": "text"
      },
      "source": [
        "<a href=\"https://colab.research.google.com/github/atulram/Data_structures_with_python/blob/master/binary_trees/Nodes.ipynb\" target=\"_parent\"><img src=\"https://colab.research.google.com/assets/colab-badge.svg\" alt=\"Open In Colab\"/></a>"
      ]
    },
    {
      "cell_type": "code",
      "metadata": {
        "id": "b4N47rAg5Uxm",
        "colab_type": "code",
        "colab": {}
      },
      "source": [
        "class Expression:\n",
        "  pass"
      ],
      "execution_count": 0,
      "outputs": []
    },
    {
      "cell_type": "code",
      "metadata": {
        "id": "oKG-wGL25eOY",
        "colab_type": "code",
        "colab": {}
      },
      "source": [
        "class Times(Expression):\n",
        "  def __init__(self, left, right):\n",
        "    self.left = left\n",
        "    self.right = right\n",
        "  \n",
        "  def __str__(self):\n",
        "    return f\"({str(self.left)} * {str(self.right)})\"\n",
        "\n",
        "  def eval(self, values):\n",
        "    return self.left.eval(values) * self.right.eval(values)\n"
      ],
      "execution_count": 0,
      "outputs": []
    },
    {
      "cell_type": "code",
      "metadata": {
        "id": "pBmux_ev5kDg",
        "colab_type": "code",
        "colab": {}
      },
      "source": [
        "class By(Expression):\n",
        " def __init__(self, left, right):\n",
        "    self.left = left\n",
        "    self.right = right\n",
        "\n",
        " def __str__(self):\n",
        "   return f\"{str(self.left)} / {str(self.right)}\"\n",
        " \n",
        " def eval(self, values):\n",
        "    return self.left.eval(values) / self.right.eval(values)"
      ],
      "execution_count": 0,
      "outputs": []
    },
    {
      "cell_type": "code",
      "metadata": {
        "id": "6q4y48lh5qhJ",
        "colab_type": "code",
        "colab": {}
      },
      "source": [
        "class Plus(Expression):\n",
        "  def __init__(self, left, right):\n",
        "    self.left = left\n",
        "    self.right = right\n",
        "\n",
        "  def __str__(self):\n",
        "    return f\"({str(self.left)} + {str(self.right)})\"\n",
        "\n",
        "  def eval(self, values):\n",
        "    return self.left.eval(values) + self.right.eval(values)"
      ],
      "execution_count": 0,
      "outputs": []
    },
    {
      "cell_type": "code",
      "metadata": {
        "id": "ysQQBsZi5szM",
        "colab_type": "code",
        "colab": {}
      },
      "source": [
        "class Minus(Expression):\n",
        "  def __init__(self, left, right):\n",
        "    self.left = left\n",
        "    self.right = right\n",
        "\n",
        "  def __str__(self):\n",
        "    return f\"{str(self.left)} - {str(self.right)}\"\n",
        "\n",
        "  def eval(self, values):\n",
        "    return self.left.eval(values) - self.right.eval(values)"
      ],
      "execution_count": 0,
      "outputs": []
    },
    {
      "cell_type": "code",
      "metadata": {
        "id": "h3Z8pUIX6WiY",
        "colab_type": "code",
        "colab": {}
      },
      "source": [
        "class Const(Expression):\n",
        "  def __init__(self,constant):\n",
        "    self.constant = constant\n",
        "\n",
        "  def __str__(self):\n",
        "    return str(self.constant)\n",
        "\n",
        "  def eval(self, values):\n",
        "    return self.constant"
      ],
      "execution_count": 0,
      "outputs": []
    },
    {
      "cell_type": "code",
      "metadata": {
        "id": "Ps5blDjp6gDn",
        "colab_type": "code",
        "colab": {}
      },
      "source": [
        "class Var(Expression):\n",
        "  def __init__(self,name):\n",
        "    self.name = name\n",
        "\n",
        "  def __str__(self):\n",
        "    return str(self.name)\n",
        "\n",
        "  def eval(self, values):\n",
        "    return values[self.name]"
      ],
      "execution_count": 0,
      "outputs": []
    },
    {
      "cell_type": "code",
      "metadata": {
        "id": "52EXfER_5uQ1",
        "colab_type": "code",
        "colab": {}
      },
      "source": [
        "e1 = Plus(Times(Const(3), Var('x')), Times(Const(4), Var('y')))"
      ],
      "execution_count": 0,
      "outputs": []
    },
    {
      "cell_type": "code",
      "metadata": {
        "id": "S6vvSBkqKjzi",
        "colab_type": "code",
        "outputId": "83b16f38-1356-4774-c813-9d7e09c97676",
        "colab": {
          "base_uri": "https://localhost:8080/",
          "height": 34
        }
      },
      "source": [
        "print(e1)\n"
      ],
      "execution_count": 9,
      "outputs": [
        {
          "output_type": "stream",
          "text": [
            "((3 * x) + (4 * y))\n"
          ],
          "name": "stdout"
        }
      ]
    },
    {
      "cell_type": "code",
      "metadata": {
        "id": "W78D6PgFa_Q1",
        "colab_type": "code",
        "outputId": "15707dcf-21fd-4070-e6f2-d36daa218163",
        "colab": {
          "base_uri": "https://localhost:8080/",
          "height": 34
        }
      },
      "source": [
        "e1.eval({'x':2, 'y':5})"
      ],
      "execution_count": 10,
      "outputs": [
        {
          "output_type": "execute_result",
          "data": {
            "text/plain": [
              "26"
            ]
          },
          "metadata": {
            "tags": []
          },
          "execution_count": 10
        }
      ]
    },
    {
      "cell_type": "code",
      "metadata": {
        "id": "Ok3WXiMtV-ec",
        "colab_type": "code",
        "colab": {}
      },
      "source": [
        "e2 = Times(Const(3), Var('x'))"
      ],
      "execution_count": 0,
      "outputs": []
    },
    {
      "cell_type": "code",
      "metadata": {
        "id": "TiGsY_9bWE8Z",
        "colab_type": "code",
        "outputId": "53610ef6-b76a-4d84-a7f7-b35122db4ab2",
        "colab": {
          "base_uri": "https://localhost:8080/",
          "height": 34
        }
      },
      "source": [
        "print(e2)"
      ],
      "execution_count": 12,
      "outputs": [
        {
          "output_type": "stream",
          "text": [
            "(3 * x)\n"
          ],
          "name": "stdout"
        }
      ]
    },
    {
      "cell_type": "code",
      "metadata": {
        "id": "D3cOIOtWc40F",
        "colab_type": "code",
        "colab": {
          "base_uri": "https://localhost:8080/",
          "height": 34
        },
        "outputId": "2a32020a-6a91-4d38-c44f-050ad5bbe835"
      },
      "source": [
        "e2.eval({'x':15})"
      ],
      "execution_count": 13,
      "outputs": [
        {
          "output_type": "execute_result",
          "data": {
            "text/plain": [
              "45"
            ]
          },
          "metadata": {
            "tags": []
          },
          "execution_count": 13
        }
      ]
    },
    {
      "cell_type": "code",
      "metadata": {
        "id": "UckC_VYjc_M3",
        "colab_type": "code",
        "colab": {}
      },
      "source": [
        ""
      ],
      "execution_count": 0,
      "outputs": []
    }
  ]
}