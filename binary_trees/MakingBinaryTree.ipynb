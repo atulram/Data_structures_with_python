{
  "nbformat": 4,
  "nbformat_minor": 0,
  "metadata": {
    "colab": {
      "name": "MakingBinaryTree.ipynb",
      "provenance": [],
      "authorship_tag": "ABX9TyPO1Df6FuQUts58UqjMIqS1",
      "include_colab_link": true
    },
    "kernelspec": {
      "name": "python3",
      "display_name": "Python 3"
    }
  },
  "cells": [
    {
      "cell_type": "markdown",
      "metadata": {
        "id": "view-in-github",
        "colab_type": "text"
      },
      "source": [
        "<a href=\"https://colab.research.google.com/github/atulram/Data_structures_with_python/blob/master/binary_trees/MakingBinaryTree.ipynb\" target=\"_parent\"><img src=\"https://colab.research.google.com/assets/colab-badge.svg\" alt=\"Open In Colab\"/></a>"
      ]
    },
    {
      "cell_type": "code",
      "metadata": {
        "id": "Kx-EK86LfDmQ",
        "colab_type": "code",
        "colab": {}
      },
      "source": [
        "class Node:\n",
        "  def __init__(self, value):\n",
        "    self.value = value\n",
        "    self.left = None\n",
        "    self.right = None\n",
        "  \n",
        "  def __repr__(self):\n",
        "    show = \"\"\n",
        "    if self.left:\n",
        "      show = str(self.left.value) + \" ==> \"\n",
        "    show += str(self.value)\n",
        "    if self.right:\n",
        "      show += \" <== \" + str(self.right.value)\n",
        "      \n",
        "    return show"
      ],
      "execution_count": 0,
      "outputs": []
    },
    {
      "cell_type": "code",
      "metadata": {
        "id": "uFQn94UPhSGB",
        "colab_type": "code",
        "colab": {
          "base_uri": "https://localhost:8080/",
          "height": 34
        },
        "outputId": "991c5617-077b-46b5-9f7d-d28222266a29"
      },
      "source": [
        "myNode = Node(500)\n",
        "myNode.left = Node(10000)\n",
        "myNode.right = Node(10)\n",
        "myNode"
      ],
      "execution_count": 41,
      "outputs": [
        {
          "output_type": "execute_result",
          "data": {
            "text/plain": [
              "10000 ==> 500 <== 10"
            ]
          },
          "metadata": {
            "tags": []
          },
          "execution_count": 41
        }
      ]
    },
    {
      "cell_type": "code",
      "metadata": {
        "id": "BE1yV5W3nvwk",
        "colab_type": "code",
        "colab": {
          "base_uri": "https://localhost:8080/",
          "height": 34
        },
        "outputId": "13ebb862-ef2c-4f12-879d-bee3973743fb"
      },
      "source": [
        "myNode.left.left = Node(30)\n",
        "myNode.left.right = Node(60)\n",
        "myNode.left\n"
      ],
      "execution_count": 42,
      "outputs": [
        {
          "output_type": "execute_result",
          "data": {
            "text/plain": [
              "30 ==> 10000 <== 60"
            ]
          },
          "metadata": {
            "tags": []
          },
          "execution_count": 42
        }
      ]
    },
    {
      "cell_type": "code",
      "metadata": {
        "id": "hHQsrscAn9-G",
        "colab_type": "code",
        "colab": {
          "base_uri": "https://localhost:8080/",
          "height": 34
        },
        "outputId": "0b279ffd-4d27-46c3-d0a3-aa4d5e429047"
      },
      "source": [
        "myNode.right.left = Node(5)\n",
        "myNode.right.right = Node(20)\n",
        "myNode.right"
      ],
      "execution_count": 46,
      "outputs": [
        {
          "output_type": "execute_result",
          "data": {
            "text/plain": [
              "5 ==> 10 <== 20"
            ]
          },
          "metadata": {
            "tags": []
          },
          "execution_count": 46
        }
      ]
    },
    {
      "cell_type": "code",
      "metadata": {
        "id": "WejTRZjhoix_",
        "colab_type": "code",
        "colab": {}
      },
      "source": [
        "       500\n",
        "     /     \\\n",
        "  10000    10\n",
        "  /  \\    /  \\\n",
        "30   60  5   20"
      ],
      "execution_count": 0,
      "outputs": []
    }
  ]
}